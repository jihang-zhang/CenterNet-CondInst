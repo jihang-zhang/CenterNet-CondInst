{
 "cells": [
  {
   "cell_type": "code",
   "execution_count": 1,
   "metadata": {},
   "outputs": [],
   "source": [
    "import xml.etree.ElementTree as ET\n",
    "import os\n",
    "import json\n",
    "\n",
    "import numpy as np\n",
    "import pandas as pd\n",
    "from tqdm.auto import tqdm\n",
    "\n",
    "from sklearn.model_selection import train_test_split, KFold"
   ]
  },
  {
   "cell_type": "code",
   "execution_count": 2,
   "metadata": {},
   "outputs": [
    {
     "data": {
      "text/html": [
       "<div>\n",
       "<style scoped>\n",
       "    .dataframe tbody tr th:only-of-type {\n",
       "        vertical-align: middle;\n",
       "    }\n",
       "\n",
       "    .dataframe tbody tr th {\n",
       "        vertical-align: top;\n",
       "    }\n",
       "\n",
       "    .dataframe thead th {\n",
       "        text-align: right;\n",
       "    }\n",
       "</style>\n",
       "<table border=\"1\" class=\"dataframe\">\n",
       "  <thead>\n",
       "    <tr style=\"text-align: right;\">\n",
       "      <th></th>\n",
       "      <th>image_id</th>\n",
       "      <th>width</th>\n",
       "      <th>height</th>\n",
       "      <th>bbox</th>\n",
       "      <th>source</th>\n",
       "    </tr>\n",
       "  </thead>\n",
       "  <tbody>\n",
       "    <tr>\n",
       "      <th>0</th>\n",
       "      <td>b6ab77fd7</td>\n",
       "      <td>1024</td>\n",
       "      <td>1024</td>\n",
       "      <td>[834.0, 222.0, 56.0, 36.0]</td>\n",
       "      <td>usask_1</td>\n",
       "    </tr>\n",
       "    <tr>\n",
       "      <th>1</th>\n",
       "      <td>b6ab77fd7</td>\n",
       "      <td>1024</td>\n",
       "      <td>1024</td>\n",
       "      <td>[226.0, 548.0, 130.0, 58.0]</td>\n",
       "      <td>usask_1</td>\n",
       "    </tr>\n",
       "    <tr>\n",
       "      <th>2</th>\n",
       "      <td>b6ab77fd7</td>\n",
       "      <td>1024</td>\n",
       "      <td>1024</td>\n",
       "      <td>[377.0, 504.0, 74.0, 160.0]</td>\n",
       "      <td>usask_1</td>\n",
       "    </tr>\n",
       "    <tr>\n",
       "      <th>3</th>\n",
       "      <td>b6ab77fd7</td>\n",
       "      <td>1024</td>\n",
       "      <td>1024</td>\n",
       "      <td>[834.0, 95.0, 109.0, 107.0]</td>\n",
       "      <td>usask_1</td>\n",
       "    </tr>\n",
       "    <tr>\n",
       "      <th>4</th>\n",
       "      <td>b6ab77fd7</td>\n",
       "      <td>1024</td>\n",
       "      <td>1024</td>\n",
       "      <td>[26.0, 144.0, 124.0, 117.0]</td>\n",
       "      <td>usask_1</td>\n",
       "    </tr>\n",
       "    <tr>\n",
       "      <th>...</th>\n",
       "      <td>...</td>\n",
       "      <td>...</td>\n",
       "      <td>...</td>\n",
       "      <td>...</td>\n",
       "      <td>...</td>\n",
       "    </tr>\n",
       "    <tr>\n",
       "      <th>147788</th>\n",
       "      <td>5e0747034</td>\n",
       "      <td>1024</td>\n",
       "      <td>1024</td>\n",
       "      <td>[64.0, 619.0, 84.0, 95.0]</td>\n",
       "      <td>arvalis_2</td>\n",
       "    </tr>\n",
       "    <tr>\n",
       "      <th>147789</th>\n",
       "      <td>5e0747034</td>\n",
       "      <td>1024</td>\n",
       "      <td>1024</td>\n",
       "      <td>[292.0, 549.0, 107.0, 82.0]</td>\n",
       "      <td>arvalis_2</td>\n",
       "    </tr>\n",
       "    <tr>\n",
       "      <th>147790</th>\n",
       "      <td>5e0747034</td>\n",
       "      <td>1024</td>\n",
       "      <td>1024</td>\n",
       "      <td>[134.0, 228.0, 141.0, 71.0]</td>\n",
       "      <td>arvalis_2</td>\n",
       "    </tr>\n",
       "    <tr>\n",
       "      <th>147791</th>\n",
       "      <td>5e0747034</td>\n",
       "      <td>1024</td>\n",
       "      <td>1024</td>\n",
       "      <td>[430.0, 13.0, 184.0, 79.0]</td>\n",
       "      <td>arvalis_2</td>\n",
       "    </tr>\n",
       "    <tr>\n",
       "      <th>147792</th>\n",
       "      <td>5e0747034</td>\n",
       "      <td>1024</td>\n",
       "      <td>1024</td>\n",
       "      <td>[875.0, 740.0, 94.0, 61.0]</td>\n",
       "      <td>arvalis_2</td>\n",
       "    </tr>\n",
       "  </tbody>\n",
       "</table>\n",
       "<p>147793 rows × 5 columns</p>\n",
       "</div>"
      ],
      "text/plain": [
       "         image_id  width  height                         bbox     source\n",
       "0       b6ab77fd7   1024    1024   [834.0, 222.0, 56.0, 36.0]    usask_1\n",
       "1       b6ab77fd7   1024    1024  [226.0, 548.0, 130.0, 58.0]    usask_1\n",
       "2       b6ab77fd7   1024    1024  [377.0, 504.0, 74.0, 160.0]    usask_1\n",
       "3       b6ab77fd7   1024    1024  [834.0, 95.0, 109.0, 107.0]    usask_1\n",
       "4       b6ab77fd7   1024    1024  [26.0, 144.0, 124.0, 117.0]    usask_1\n",
       "...           ...    ...     ...                          ...        ...\n",
       "147788  5e0747034   1024    1024    [64.0, 619.0, 84.0, 95.0]  arvalis_2\n",
       "147789  5e0747034   1024    1024  [292.0, 549.0, 107.0, 82.0]  arvalis_2\n",
       "147790  5e0747034   1024    1024  [134.0, 228.0, 141.0, 71.0]  arvalis_2\n",
       "147791  5e0747034   1024    1024   [430.0, 13.0, 184.0, 79.0]  arvalis_2\n",
       "147792  5e0747034   1024    1024   [875.0, 740.0, 94.0, 61.0]  arvalis_2\n",
       "\n",
       "[147793 rows x 5 columns]"
      ]
     },
     "execution_count": 2,
     "metadata": {},
     "output_type": "execute_result"
    }
   ],
   "source": [
    "df = pd.read_csv('../input/train.csv')\n",
    "df"
   ]
  },
  {
   "cell_type": "code",
   "execution_count": 3,
   "metadata": {},
   "outputs": [],
   "source": [
    "# split bbox column\n",
    "bbox_items = df.bbox.str.split(',', expand=True)\n",
    "df['bbox_xmin'] = bbox_items[0].str.strip('[ ').astype(float)\n",
    "df['bbox_ymin'] = bbox_items[1].str.strip(' ').astype(float)\n",
    "df['bbox_width'] = bbox_items[2].str.strip(' ').astype(float)\n",
    "df['bbox_height'] = bbox_items[3].str.strip(' ]').astype(float)"
   ]
  },
  {
   "cell_type": "code",
   "execution_count": 5,
   "metadata": {},
   "outputs": [],
   "source": [
    "df['aspect_ratio'] = df['bbox_height'] / df['bbox_width']"
   ]
  },
  {
   "cell_type": "code",
   "execution_count": 11,
   "metadata": {},
   "outputs": [
    {
     "data": {
      "text/plain": [
       "count    147793.000000\n",
       "mean          1.045684\n",
       "std           1.082033\n",
       "min           0.007843\n",
       "25%           0.663462\n",
       "50%           0.913043\n",
       "75%           1.225806\n",
       "max         191.000000\n",
       "Name: aspect_ratio, dtype: float64"
      ]
     },
     "execution_count": 11,
     "metadata": {},
     "output_type": "execute_result"
    }
   ],
   "source": [
    "df['aspect_ratio'].describe()"
   ]
  },
  {
   "cell_type": "code",
   "execution_count": 16,
   "metadata": {},
   "outputs": [],
   "source": [
    "ar = df['aspect_ratio'].values\n",
    "ar = ar[ar<4]"
   ]
  },
  {
   "cell_type": "code",
   "execution_count": 18,
   "metadata": {},
   "outputs": [
    {
     "data": {
      "image/png": "[encoded data removed]",
      "text/plain": [
       "<Figure size 432x288 with 1 Axes>"
      ]
     },
     "metadata": {
      "needs_background": "light"
     },
     "output_type": "display_data"
    }
   ],
   "source": [
    "import seaborn as sns\n",
    "import matplotlib.pyplot as plt\n",
    "\n",
    "sns.distplot(np.log(ar), bins=20)\n",
    "plt.show()"
   ]
  },
  {
   "cell_type": "code",
   "execution_count": 22,
   "metadata": {},
   "outputs": [
    {
     "data": {
      "image/png": "[encoded data removed]",
      "text/plain": [
       "<Figure size 432x288 with 1 Axes>"
      ]
     },
     "metadata": {
      "needs_background": "light"
     },
     "output_type": "display_data"
    }
   ],
   "source": [
    "sns.distplot(df['bbox_width'], bins=30)\n",
    "plt.show()"
   ]
  },
  {
   "cell_type": "code",
   "execution_count": 49,
   "metadata": {},
   "outputs": [
    {
     "data": {
      "text/plain": [
       "0.007266920625469407"
      ]
     },
     "execution_count": 49,
     "metadata": {},
     "output_type": "execute_result"
    }
   ],
   "source": [
    "(df['aspect_ratio'] < 1/4).mean()"
   ]
  },
  {
   "cell_type": "code",
   "execution_count": 21,
   "metadata": {},
   "outputs": [
    {
     "data": {
      "image/png": "[encoded data removed]",
      "text/plain": [
       "<Figure size 432x288 with 1 Axes>"
      ]
     },
     "metadata": {
      "needs_background": "light"
     },
     "output_type": "display_data"
    }
   ],
   "source": [
    "sns.distplot(df['bbox_height'], bins=30)\n",
    "plt.show()"
   ]
  },
  {
   "cell_type": "code",
   "execution_count": 3,
   "metadata": {},
   "outputs": [],
   "source": [
    "with open('instances_val2017.json', 'r') as f:\n",
    "    j = json.load(f)"
   ]
  },
  {
   "cell_type": "code",
   "execution_count": 4,
   "metadata": {},
   "outputs": [
    {
     "data": {
      "text/plain": [
       "dict_keys(['info', 'licenses', 'images', 'annotations', 'categories'])"
      ]
     },
     "execution_count": 4,
     "metadata": {},
     "output_type": "execute_result"
    }
   ],
   "source": [
    "j.keys()"
   ]
  },
  {
   "cell_type": "code",
   "execution_count": 5,
   "metadata": {},
   "outputs": [
    {
     "data": {
      "text/plain": [
       "{'description': 'COCO 2017 Dataset',\n",
       " 'url': 'http://cocodataset.org',\n",
       " 'version': '1.0',\n",
       " 'year': 2017,\n",
       " 'contributor': 'COCO Consortium',\n",
       " 'date_created': '2017/09/01'}"
      ]
     },
     "execution_count": 5,
     "metadata": {},
     "output_type": "execute_result"
    }
   ],
   "source": [
    "j['info']"
   ]
  },
  {
   "cell_type": "code",
   "execution_count": 6,
   "metadata": {},
   "outputs": [
    {
     "data": {
      "text/plain": [
       "{'license': 4,\n",
       " 'file_name': '000000397133.jpg',\n",
       " 'coco_url': 'http://images.cocodataset.org/val2017/000000397133.jpg',\n",
       " 'height': 427,\n",
       " 'width': 640,\n",
       " 'date_captured': '2013-11-14 17:02:52',\n",
       " 'flickr_url': 'http://farm7.staticflickr.com/6116/6255196340_da26cf2c9e_z.jpg',\n",
       " 'id': 397133}"
      ]
     },
     "execution_count": 6,
     "metadata": {},
     "output_type": "execute_result"
    }
   ],
   "source": [
    "j['images'][0]"
   ]
  },
  {
   "cell_type": "code",
   "execution_count": 7,
   "metadata": {
    "scrolled": true
   },
   "outputs": [
    {
     "data": {
      "text/plain": [
       "{'segmentation': [[388.52,\n",
       "   2.8,\n",
       "   567.17,\n",
       "   15.71,\n",
       "   574.71,\n",
       "   234.19,\n",
       "   575.78,\n",
       "   379.48,\n",
       "   572.56,\n",
       "   467.73,\n",
       "   574.71,\n",
       "   473.11,\n",
       "   319.64,\n",
       "   467.73,\n",
       "   1.08,\n",
       "   473.11,\n",
       "   3.23,\n",
       "   310.6,\n",
       "   1.08,\n",
       "   130.87,\n",
       "   2.15,\n",
       "   3.87,\n",
       "   189.42,\n",
       "   1.72]],\n",
       " 'area': 265862.40795,\n",
       " 'iscrowd': 0,\n",
       " 'image_id': 433915,\n",
       " 'bbox': [1.08, 1.72, 574.7, 471.39],\n",
       " 'category_id': 72,\n",
       " 'id': 29555}"
      ]
     },
     "execution_count": 7,
     "metadata": {},
     "output_type": "execute_result"
    }
   ],
   "source": [
    "j['annotations'][50]"
   ]
  },
  {
   "cell_type": "code",
   "execution_count": 8,
   "metadata": {},
   "outputs": [
    {
     "data": {
      "text/plain": [
       "{'supercategory': 'person', 'id': 1, 'name': 'person'}"
      ]
     },
     "execution_count": 8,
     "metadata": {},
     "output_type": "execute_result"
    }
   ],
   "source": [
    "j['categories'][0]"
   ]
  },
  {
   "cell_type": "code",
   "execution_count": 9,
   "metadata": {},
   "outputs": [],
   "source": [
    "def addAnnoItem(image_id, category_id, bbox, annotation_id):\n",
    "    annotation_item = dict()\n",
    "    annotation_item['segmentation'] = []\n",
    "    seg = []\n",
    "    # bbox[] is x,y,w,h\n",
    "    # left_top\n",
    "    seg.append(bbox[0])\n",
    "    seg.append(bbox[1])\n",
    "    # left_bottom\n",
    "    seg.append(bbox[0])\n",
    "    seg.append(bbox[1] + bbox[3])\n",
    "    # right_bottom\n",
    "    seg.append(bbox[0] + bbox[2])\n",
    "    seg.append(bbox[1] + bbox[3])\n",
    "    # right_top\n",
    "    seg.append(bbox[0] + bbox[2])\n",
    "    seg.append(bbox[1])\n",
    " \n",
    "    annotation_item['segmentation'].append(seg)\n",
    " \n",
    "    annotation_item['area'] = bbox[2] * bbox[3]\n",
    "    annotation_item['iscrowd'] = 0\n",
    "    annotation_item['image_id'] = image_id\n",
    "    annotation_item['bbox'] = bbox\n",
    "    annotation_item['category_id'] = category_id\n",
    "    annotation_item['id'] = annotation_id\n",
    "    \n",
    "    return annotation_item"
   ]
  },
  {
   "cell_type": "code",
   "execution_count": 10,
   "metadata": {},
   "outputs": [],
   "source": [
    "coco = dict()\n",
    "coco['images'] = []\n",
    "coco['annotations'] = []\n",
    "coco['categories'] = []\n",
    " \n",
    "category_set = dict()\n",
    "image_set = set()\n",
    " \n",
    "category_item_id = -1\n",
    "image_id = 20200000000\n",
    "annotation_id = 0"
   ]
  },
  {
   "cell_type": "code",
   "execution_count": 11,
   "metadata": {},
   "outputs": [],
   "source": [
    "df_grouped = df.groupby('image_id')"
   ]
  },
  {
   "cell_type": "code",
   "execution_count": 12,
   "metadata": {},
   "outputs": [
    {
     "data": {
      "application/vnd.jupyter.widget-view+json": {
       "model_id": "c45581647f8b4b38b0ec51a6a17f76a9",
       "version_major": 2,
       "version_minor": 0
      },
      "text/plain": [
       "HBox(children=(FloatProgress(value=0.0, max=3373.0), HTML(value='')))"
      ]
     },
     "metadata": {},
     "output_type": "display_data"
    },
    {
     "name": "stdout",
     "output_type": "stream",
     "text": [
      "\n"
     ]
    }
   ],
   "source": [
    "for file_name, sub_df in tqdm(df_grouped):\n",
    "    coco['images'].append({\n",
    "        'file_name': file_name + '.jpg',\n",
    "        'height': sub_df['height'].tolist()[0],\n",
    "        'width': sub_df['width'].tolist()[0],\n",
    "        'id': image_id\n",
    "    })\n",
    "    for bbox in np.array(sub_df['bbox']):\n",
    "        coco['annotations'].append(addAnnoItem(image_id, 0, eval(bbox), annotation_id))\n",
    "        annotation_id += 1\n",
    "    image_id += 1\n",
    "coco['categories'].append({\n",
    "    'supercategory': 'wheat', 'id': 1, 'name': 'wheat'\n",
    "})"
   ]
  },
  {
   "cell_type": "code",
   "execution_count": 13,
   "metadata": {},
   "outputs": [
    {
     "data": {
      "text/plain": [
       "[{'supercategory': 'wheat', 'id': 1, 'name': 'wheat'}]"
      ]
     },
     "execution_count": 13,
     "metadata": {},
     "output_type": "execute_result"
    }
   ],
   "source": []
  },
  {
   "cell_type": "code",
   "execution_count": 18,
   "metadata": {},
   "outputs": [],
   "source": [
    "image_ids = np.array([j['id'] for j in coco['images']])"
   ]
  },
  {
   "cell_type": "code",
   "execution_count": 19,
   "metadata": {},
   "outputs": [],
   "source": [
    "kf = KFold(n_splits=5)\n",
    "for fold, (train_index, valid_index) in enumerate(kf.split(image_ids)):\n",
    "    train_ids, valid_ids = image_ids[train_index], image_ids[valid_index]\n",
    "    \n",
    "    fold_train_coco = coco.copy()\n",
    "    fold_train_coco['images'] = [j for j in coco['images'] if j['id'] in train_ids]\n",
    "    fold_train_coco['annotations'] = [j for j in coco['annotations'] if j['image_id'] in train_ids]\n",
    "    \n",
    "    fold_valid_coco = coco.copy()\n",
    "    fold_valid_coco['images'] = [j for j in coco['images'] if j['id'] in valid_ids]\n",
    "    fold_valid_coco['annotations'] = [j for j in coco['annotations'] if j['image_id'] in valid_ids]\n",
    "    \n",
    "    with open('fold{}_train.json'.format(fold), 'w') as f:\n",
    "        json.dump(fold_train_coco, f)\n",
    "\n",
    "    with open('fold{}_valid.json'.format(fold), 'w') as f:\n",
    "        json.dump(fold_valid_coco, f)"
   ]
  }
 ],
 "metadata": {
  "kernelspec": {
   "display_name": "Python 3",
   "language": "python",
   "name": "python3"
  },
  "language_info": {
   "codemirror_mode": {
    "name": "ipython",
    "version": 3
   },
   "file_extension": ".py",
   "mimetype": "text/x-python",
   "name": "python",
   "nbconvert_exporter": "python",
   "pygments_lexer": "ipython3",
   "version": "3.7.6"
  }
 },
 "nbformat": 4,
 "nbformat_minor": 4
}
